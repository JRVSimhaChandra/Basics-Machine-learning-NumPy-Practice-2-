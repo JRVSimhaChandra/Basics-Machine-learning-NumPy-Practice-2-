{
 "cells": [
  {
   "cell_type": "code",
   "execution_count": 1,
   "id": "2b0e68da-d155-4022-8e4b-1c967937a9f9",
   "metadata": {},
   "outputs": [],
   "source": [
    "# import numpy package\n",
    "import numpy as np"
   ]
  },
  {
   "cell_type": "code",
   "execution_count": 2,
   "id": "ab90c0f7-bb55-435c-8459-6a33a310f406",
   "metadata": {},
   "outputs": [
    {
     "name": "stdout",
     "output_type": "stream",
     "text": [
      "[]\n",
      "<class 'numpy.ndarray'>\n"
     ]
    }
   ],
   "source": [
    "# create empty array\n",
    "arr=np.array([])\n",
    "print(arr)\n",
    "print(type(arr))"
   ]
  },
  {
   "cell_type": "markdown",
   "id": "d36700ec-7dec-4ccc-8386-c4fb49f5cd53",
   "metadata": {},
   "source": [
    "# Random "
   ]
  },
  {
   "cell_type": "markdown",
   "id": "437f1a5d-eb34-4076-a37d-0ad234cdafda",
   "metadata": {},
   "source": [
    "# Randint"
   ]
  },
  {
   "cell_type": "code",
   "execution_count": 14,
   "id": "6d83709e-8d48-4390-90e8-8bc38223983c",
   "metadata": {},
   "outputs": [
    {
     "data": {
      "text/plain": [
       "array([36, 59, 43, 65, 51,  4, 82, 74, 34, 36])"
      ]
     },
     "execution_count": 14,
     "metadata": {},
     "output_type": "execute_result"
    }
   ],
   "source": [
    "# create an array which includes 10 random integers between 1 to 100\n",
    "# randint-- it is used to generate random integers for given interval\n",
    "np.random.randint(1,100,10)"
   ]
  },
  {
   "cell_type": "code",
   "execution_count": 15,
   "id": "e0393e78-b579-491f-a43b-3f8dd1fd6e48",
   "metadata": {},
   "outputs": [
    {
     "data": {
      "text/plain": [
       "array([690, 357, 669, 876, 741])"
      ]
     },
     "execution_count": 15,
     "metadata": {},
     "output_type": "execute_result"
    }
   ],
   "source": [
    "# generate an array which includes 5 random integers between 1 to 1000\n",
    "np.random.randint(1,1000,5)"
   ]
  },
  {
   "cell_type": "code",
   "execution_count": 17,
   "id": "fd672a88-11a4-4618-bcba-8ed3cc5952b0",
   "metadata": {},
   "outputs": [
    {
     "data": {
      "text/plain": [
       "array([[38, 47],\n",
       "       [44, 27]])"
      ]
     },
     "execution_count": 17,
     "metadata": {},
     "output_type": "execute_result"
    }
   ],
   "source": [
    "# create 2-D array of order (2,2) which includes random integers between 20 to 60\n",
    "np.random.randint(20,60,size=(2,2))"
   ]
  },
  {
   "cell_type": "code",
   "execution_count": 18,
   "id": "3e12366a-eb5a-449c-8d46-497f7bf34781",
   "metadata": {},
   "outputs": [
    {
     "data": {
      "text/plain": [
       "array([[194, 162, 134],\n",
       "       [ 65,   5, 137]])"
      ]
     },
     "execution_count": 18,
     "metadata": {},
     "output_type": "execute_result"
    }
   ],
   "source": [
    "# create 2-D array of order (2,3) which includes random integers between 2 to 200\n",
    "np.random.randint(2,200,size=(2,3))"
   ]
  },
  {
   "cell_type": "markdown",
   "id": "933c0922-bf90-4a76-b650-1009e75778d6",
   "metadata": {},
   "source": [
    "# Rand"
   ]
  },
  {
   "cell_type": "code",
   "execution_count": 19,
   "id": "1e9081be-bf2f-42f4-8724-55cac03bf0bb",
   "metadata": {},
   "outputs": [],
   "source": [
    "# rand-- it generates random values between the range [0,1]"
   ]
  },
  {
   "cell_type": "code",
   "execution_count": 20,
   "id": "9e4c40de-eaba-4ace-92ee-5e8f89f7377a",
   "metadata": {},
   "outputs": [
    {
     "data": {
      "text/plain": [
       "array([0.00924175, 0.25275814, 0.1713535 , 0.97497818, 0.97677158,\n",
       "       0.90428964, 0.10139308, 0.95906192, 0.28438638, 0.50798314])"
      ]
     },
     "execution_count": 20,
     "metadata": {},
     "output_type": "execute_result"
    }
   ],
   "source": [
    "# generate 10 random numbers between 0 to 1\n",
    "np.random.rand(10)"
   ]
  },
  {
   "cell_type": "code",
   "execution_count": 3,
   "id": "11bbe95b-3bfe-459d-b591-23c18bfa1eab",
   "metadata": {},
   "outputs": [
    {
     "data": {
      "text/plain": [
       "array([], shape=(0, 1), dtype=float64)"
      ]
     },
     "execution_count": 3,
     "metadata": {},
     "output_type": "execute_result"
    }
   ],
   "source": [
    "# generate 10 random numbers between 0 to 1\n",
    "np.random.rand(0,1)"
   ]
  },
  {
   "cell_type": "code",
   "execution_count": 4,
   "id": "990e28f6-20ee-4744-839b-d0fd7fc6c512",
   "metadata": {},
   "outputs": [
    {
     "data": {
      "text/plain": [
       "array([0.21513203, 0.72789547, 0.85593435, 0.93180984, 0.33305443,\n",
       "       0.84855331, 0.49786583, 0.22260553, 0.02392907, 0.66143691,\n",
       "       0.49385205, 0.74731247, 0.05470612, 0.77221465, 0.60100713,\n",
       "       0.31126954, 0.48456944, 0.05235998, 0.92285249, 0.51428205,\n",
       "       0.93522419, 0.42285214, 0.41060597, 0.69657419, 0.80563472,\n",
       "       0.30229935, 0.35969778, 0.73977291, 0.64478309, 0.30068778,\n",
       "       0.57623571, 0.07776941, 0.0521001 , 0.61899488, 0.91950349,\n",
       "       0.56518025, 0.75997975, 0.72183948, 0.41707871, 0.63368318,\n",
       "       0.32372168, 0.28116972, 0.35476738, 0.85795102, 0.07112179,\n",
       "       0.67804841, 0.71782547, 0.1285142 , 0.03293172, 0.82419525,\n",
       "       0.06761552, 0.73342738, 0.23245771, 0.28869086, 0.59447123,\n",
       "       0.40642719, 0.30577885, 0.33027512, 0.05350759, 0.4774478 ,\n",
       "       0.91943165, 0.88165387, 0.17177714, 0.26195418, 0.69619845,\n",
       "       0.97300807, 0.56952095, 0.16080299, 0.96916935, 0.4280819 ,\n",
       "       0.50862476, 0.12860689, 0.37370214, 0.19096374, 0.04669651,\n",
       "       0.98609235, 0.31801842, 0.33450595, 0.56066317, 0.70573775,\n",
       "       0.61383415, 0.75036319, 0.23491901, 0.42860768, 0.44963469,\n",
       "       0.10134211, 0.87957466, 0.26380707, 0.40931194, 0.84671894,\n",
       "       0.68404894, 0.08410214, 0.99545359, 0.67311839, 0.19071591,\n",
       "       0.75244106, 0.8431775 , 0.23519792, 0.18542035, 0.41922673])"
      ]
     },
     "execution_count": 4,
     "metadata": {},
     "output_type": "execute_result"
    }
   ],
   "source": [
    "# generate 100 random numbers between 0 to 1\n",
    "np.random.rand(100)"
   ]
  },
  {
   "cell_type": "code",
   "execution_count": 5,
   "id": "4b443a2b-4c2d-440a-8a98-2af645f664d5",
   "metadata": {},
   "outputs": [
    {
     "data": {
      "text/plain": [
       "0.6454886580751814"
      ]
     },
     "execution_count": 5,
     "metadata": {},
     "output_type": "execute_result"
    }
   ],
   "source": [
    "# generate 2D array of order (4,4)with random numbers between 0 to 1\n",
    "np.random.rand()"
   ]
  },
  {
   "cell_type": "code",
   "execution_count": 7,
   "id": "7ae5da55-a83d-4b72-88c6-672abf4a66ad",
   "metadata": {},
   "outputs": [
    {
     "data": {
      "text/plain": [
       "array([[0.85308722, 0.08147689, 0.43043001],\n",
       "       [0.46278367, 0.48458537, 0.35036241],\n",
       "       [0.6719362 , 0.90594098, 0.15068421],\n",
       "       [0.2273077 , 0.51572453, 0.51059204],\n",
       "       [0.91109634, 0.63926371, 0.22885768],\n",
       "       [0.83888378, 0.46704924, 0.40045578],\n",
       "       [0.1535946 , 0.08931964, 0.54094585]])"
      ]
     },
     "execution_count": 7,
     "metadata": {},
     "output_type": "execute_result"
    }
   ],
   "source": [
    "# create matrix of order (7,3) which includes numbers between 0 to 1\n",
    "np.random.rand(7,3)"
   ]
  },
  {
   "cell_type": "markdown",
   "id": "8782ac4c-bd36-4f1a-b87f-c2ff82eed946",
   "metadata": {},
   "source": [
    "# RandN \n",
    "\n",
    "It is used to generate random numbers from normal distribution with in a range [-3, 3]"
   ]
  },
  {
   "cell_type": "code",
   "execution_count": 8,
   "id": "d20db0c8-086c-49e0-8990-be8a54431b81",
   "metadata": {},
   "outputs": [
    {
     "data": {
      "text/plain": [
       "array([-1.13015714, -0.59261537, -1.09801255,  0.90284792,  0.42955259,\n",
       "        0.5755193 ,  1.14345375,  0.12900751,  1.71177019,  0.23112208])"
      ]
     },
     "execution_count": 8,
     "metadata": {},
     "output_type": "execute_result"
    }
   ],
   "source": [
    "# generate 10 random number from normal distribution\n",
    "np.random.randn(10)"
   ]
  },
  {
   "cell_type": "code",
   "execution_count": 9,
   "id": "42e03e62-d0fe-4d25-9645-fa72c1d83fb5",
   "metadata": {},
   "outputs": [
    {
     "data": {
      "text/plain": [
       "array([[-1.29482862,  0.57285931,  0.503123  , -1.88380203, -0.59137683],\n",
       "       [ 1.71158312, -0.45303272, -0.57621031,  1.24774707, -1.51491059],\n",
       "       [ 1.77132757,  0.18776174, -0.23366847,  0.04217896, -0.17449211],\n",
       "       [ 0.21566818,  1.4896013 , -0.8473535 , -1.6890619 , -0.2397363 ],\n",
       "       [-0.70657006,  0.44785785,  0.47623861,  0.11866332,  0.64198495]])"
      ]
     },
     "execution_count": 9,
     "metadata": {},
     "output_type": "execute_result"
    }
   ],
   "source": [
    "# create 2D array of order (5,5) which includes normal distribution values\n",
    "np.random.randn(5,5)"
   ]
  },
  {
   "cell_type": "code",
   "execution_count": 12,
   "id": "2bea0191-4627-4e4b-bd45-68abe4f73cb6",
   "metadata": {},
   "outputs": [
    {
     "name": "stdout",
     "output_type": "stream",
     "text": [
      "[5022 9794 6080 7808 2489 2954 3515 4598 7279  122]\n"
     ]
    }
   ],
   "source": [
    "# create 10 random integers between 1 to 10000\n",
    "arr=np.random.randint(1,10000,10)\n",
    "print(arr)"
   ]
  },
  {
   "cell_type": "code",
   "execution_count": 13,
   "id": "8344225d-558a-4943-b185-d0b7afa0abc1",
   "metadata": {},
   "outputs": [
    {
     "data": {
      "text/plain": [
       "9794"
      ]
     },
     "execution_count": 13,
     "metadata": {},
     "output_type": "execute_result"
    }
   ],
   "source": [
    "# maximum value\n",
    "np.max(arr)"
   ]
  },
  {
   "cell_type": "code",
   "execution_count": 17,
   "id": "46928da5-a1ec-42c8-a508-161ebef59ea5",
   "metadata": {},
   "outputs": [
    {
     "data": {
      "text/plain": [
       "1"
      ]
     },
     "execution_count": 17,
     "metadata": {},
     "output_type": "execute_result"
    }
   ],
   "source": [
    "# arg max function is used to get the index value of maximum value in an array\n",
    "np.argmax(arr)"
   ]
  },
  {
   "cell_type": "code",
   "execution_count": 18,
   "id": "075f1d4a-251b-47ef-aa32-6bcc6d4b9580",
   "metadata": {},
   "outputs": [
    {
     "data": {
      "text/plain": [
       "122"
      ]
     },
     "execution_count": 18,
     "metadata": {},
     "output_type": "execute_result"
    }
   ],
   "source": [
    "# mimimum\n",
    "np.min(arr)"
   ]
  },
  {
   "cell_type": "code",
   "execution_count": 19,
   "id": "0ddc1cc4-0ee0-471c-a0f9-095dbfdd7be7",
   "metadata": {},
   "outputs": [
    {
     "data": {
      "text/plain": [
       "9"
      ]
     },
     "execution_count": 19,
     "metadata": {},
     "output_type": "execute_result"
    }
   ],
   "source": [
    "# index position of minimum value\n",
    "np.argmin(arr)"
   ]
  },
  {
   "cell_type": "markdown",
   "id": "cbe46e3d-b477-4144-adb5-9d16047070c5",
   "metadata": {},
   "source": [
    "# Indexing\n",
    "\n",
    "what are the 2 uses of indexing?\n",
    "\n",
    "Positive & Negative"
   ]
  },
  {
   "cell_type": "code",
   "execution_count": 20,
   "id": "30f62f3d-bb6a-4396-809a-cbc5e053b042",
   "metadata": {},
   "outputs": [
    {
     "name": "stdout",
     "output_type": "stream",
     "text": [
      "[ 1  2  3  4  5  6  7  8  9 10 11 12 13 14]\n"
     ]
    }
   ],
   "source": [
    "A=np.arange(1,15)\n",
    "print(A)"
   ]
  },
  {
   "cell_type": "code",
   "execution_count": 22,
   "id": "1886a3c2-f9b6-422b-9a75-772d9f342352",
   "metadata": {},
   "outputs": [
    {
     "name": "stdout",
     "output_type": "stream",
     "text": [
      "[20 21 22 23 24 25 26 27 28 29]\n"
     ]
    }
   ],
   "source": [
    "A=np.arange(20,30)\n",
    "print(A)"
   ]
  },
  {
   "cell_type": "markdown",
   "id": "e4a24acd-fb1e-4a0c-b949-8b52e81d716f",
   "metadata": {},
   "source": [
    "# Fetch"
   ]
  },
  {
   "cell_type": "code",
   "execution_count": 23,
   "id": "64de07d2-c51a-4897-9f97-925162f5df77",
   "metadata": {},
   "outputs": [
    {
     "data": {
      "text/plain": [
       "23"
      ]
     },
     "execution_count": 23,
     "metadata": {},
     "output_type": "execute_result"
    }
   ],
   "source": [
    "# fetch 23\n",
    "A [3]\n"
   ]
  },
  {
   "cell_type": "code",
   "execution_count": 24,
   "id": "fab1d1f9-5a39-4055-90aa-a7aeeb6ae8ce",
   "metadata": {},
   "outputs": [
    {
     "data": {
      "text/plain": [
       "array([23, 24, 25])"
      ]
     },
     "execution_count": 24,
     "metadata": {},
     "output_type": "execute_result"
    }
   ],
   "source": [
    "# fetch 23,24,25\n",
    "A[3:6]"
   ]
  },
  {
   "cell_type": "code",
   "execution_count": 25,
   "id": "24f6b963-6a28-4863-bd3b-5f24973a0e96",
   "metadata": {},
   "outputs": [
    {
     "data": {
      "text/plain": [
       "array([29, 28, 27, 26, 25, 24, 23, 22, 21, 20])"
      ]
     },
     "execution_count": 25,
     "metadata": {},
     "output_type": "execute_result"
    }
   ],
   "source": [
    "# how to reverse array\n",
    "A[::-1]"
   ]
  },
  {
   "cell_type": "markdown",
   "id": "f862b26d-840b-4657-a004-d06dd6352b8f",
   "metadata": {},
   "source": [
    "# Indexing with 2-D array"
   ]
  },
  {
   "cell_type": "code",
   "execution_count": 26,
   "id": "a481821f-c134-4663-8045-cc93d66e65b2",
   "metadata": {},
   "outputs": [
    {
     "data": {
      "text/plain": [
       "array([[1, 2, 3],\n",
       "       [4, 5, 6],\n",
       "       [7, 8, 9]])"
      ]
     },
     "execution_count": 26,
     "metadata": {},
     "output_type": "execute_result"
    }
   ],
   "source": [
    "# Indexing with 2-D array\n",
    "arr=np.array([[1,2,3],[4,5,6],[7,8,9]])\n",
    "arr"
   ]
  },
  {
   "cell_type": "code",
   "execution_count": 27,
   "id": "ebee9684-372e-4305-9687-f7f0eb24b4d1",
   "metadata": {},
   "outputs": [
    {
     "data": {
      "text/plain": [
       "array([[1, 2, 3]])"
      ]
     },
     "execution_count": 27,
     "metadata": {},
     "output_type": "execute_result"
    }
   ],
   "source": [
    "# fetch first row\n",
    "arr[[0]]"
   ]
  },
  {
   "cell_type": "code",
   "execution_count": 28,
   "id": "b2efeab5-d860-43e0-b2ea-504d84a4cc93",
   "metadata": {},
   "outputs": [
    {
     "data": {
      "text/plain": [
       "array([[7, 8, 9]])"
      ]
     },
     "execution_count": 28,
     "metadata": {},
     "output_type": "execute_result"
    }
   ],
   "source": [
    "# fetch third row\n",
    "arr[[2]]"
   ]
  },
  {
   "cell_type": "code",
   "execution_count": 29,
   "id": "60ec2881-43d0-403e-84e8-3e3f9af2cad5",
   "metadata": {},
   "outputs": [
    {
     "data": {
      "text/plain": [
       "array([[1, 2, 3],\n",
       "       [4, 5, 6]])"
      ]
     },
     "execution_count": 29,
     "metadata": {},
     "output_type": "execute_result"
    }
   ],
   "source": [
    "# fetch first and second row\n",
    "arr[[0,1]]"
   ]
  },
  {
   "cell_type": "code",
   "execution_count": 30,
   "id": "858e8138-9621-4600-b031-8c4dcdd08ce0",
   "metadata": {},
   "outputs": [
    {
     "data": {
      "text/plain": [
       "array([[1, 2, 3],\n",
       "       [7, 8, 9]])"
      ]
     },
     "execution_count": 30,
     "metadata": {},
     "output_type": "execute_result"
    }
   ],
   "source": [
    "# fetch first and third row\n",
    "arr[[0,2]]"
   ]
  },
  {
   "cell_type": "code",
   "execution_count": 31,
   "id": "8736ed8d-68cb-4f5f-be6b-c6c61b678ebb",
   "metadata": {},
   "outputs": [
    {
     "data": {
      "text/plain": [
       "array([[1, 2, 3],\n",
       "       [4, 5, 6]])"
      ]
     },
     "execution_count": 31,
     "metadata": {},
     "output_type": "execute_result"
    }
   ],
   "source": [
    "# fetch first and second row\n",
    "arr[[0,1]]"
   ]
  },
  {
   "cell_type": "code",
   "execution_count": 32,
   "id": "bd2ec49a-23e8-4bc8-bff1-8a2f69a121b0",
   "metadata": {},
   "outputs": [
    {
     "data": {
      "text/plain": [
       "4"
      ]
     },
     "execution_count": 32,
     "metadata": {},
     "output_type": "execute_result"
    }
   ],
   "source": [
    "# fetch 4\n",
    "arr[1][0]"
   ]
  },
  {
   "cell_type": "code",
   "execution_count": 33,
   "id": "706a687f-d488-429a-b947-1d669eb0d6d3",
   "metadata": {},
   "outputs": [
    {
     "data": {
      "text/plain": [
       "6"
      ]
     },
     "execution_count": 33,
     "metadata": {},
     "output_type": "execute_result"
    }
   ],
   "source": [
    "# fetch 6\n",
    "arr[1,2]"
   ]
  },
  {
   "cell_type": "code",
   "execution_count": 34,
   "id": "46785fa6-3120-47dc-88ab-63dd909e1f09",
   "metadata": {},
   "outputs": [
    {
     "data": {
      "text/plain": [
       "9"
      ]
     },
     "execution_count": 34,
     "metadata": {},
     "output_type": "execute_result"
    }
   ],
   "source": [
    "# fetch 9\n",
    "arr[2][2]"
   ]
  },
  {
   "cell_type": "code",
   "execution_count": 35,
   "id": "9797522f-74f8-4a1a-ad19-f2f6af57cd36",
   "metadata": {},
   "outputs": [
    {
     "data": {
      "text/plain": [
       "array([[2],\n",
       "       [5],\n",
       "       [8]])"
      ]
     },
     "execution_count": 35,
     "metadata": {},
     "output_type": "execute_result"
    }
   ],
   "source": [
    "# fetch third column \n",
    "arr[:,[1]]"
   ]
  },
  {
   "cell_type": "code",
   "execution_count": 37,
   "id": "014051d9-851d-4120-a7cb-bb41016f92a6",
   "metadata": {},
   "outputs": [
    {
     "data": {
      "text/plain": [
       "array([[1, 3],\n",
       "       [4, 6],\n",
       "       [7, 9]])"
      ]
     },
     "execution_count": 37,
     "metadata": {},
     "output_type": "execute_result"
    }
   ],
   "source": [
    "# fetch first and third column\n",
    "arr[:,[0,2]]"
   ]
  },
  {
   "cell_type": "code",
   "execution_count": 38,
   "id": "8a312f92-a34a-438a-a778-9b686d505c3d",
   "metadata": {},
   "outputs": [
    {
     "data": {
      "text/plain": [
       "array([[1, 2],\n",
       "       [4, 5],\n",
       "       [7, 8]])"
      ]
     },
     "execution_count": 38,
     "metadata": {},
     "output_type": "execute_result"
    }
   ],
   "source": [
    "# fetch first and second column \n",
    "arr[:,[0,1]]"
   ]
  },
  {
   "cell_type": "code",
   "execution_count": 42,
   "id": "393aa4f1-5ca1-4b9c-9318-1b357079ab16",
   "metadata": {},
   "outputs": [],
   "source": [
    "arr1=np.array([10,20,30,40,50])\n",
    "arr2=np.array([2,4,6,8,10])"
   ]
  },
  {
   "cell_type": "code",
   "execution_count": 43,
   "id": "15006138-b7d1-4eec-888e-71d3907cc201",
   "metadata": {},
   "outputs": [
    {
     "data": {
      "text/plain": [
       "array([12, 24, 36, 48, 60])"
      ]
     },
     "execution_count": 43,
     "metadata": {},
     "output_type": "execute_result"
    }
   ],
   "source": [
    "arr1+arr2"
   ]
  },
  {
   "cell_type": "code",
   "execution_count": 44,
   "id": "bd864fec-97fc-43c8-b716-0c5b3d59c854",
   "metadata": {},
   "outputs": [
    {
     "data": {
      "text/plain": [
       "array([ 8, 16, 24, 32, 40])"
      ]
     },
     "execution_count": 44,
     "metadata": {},
     "output_type": "execute_result"
    }
   ],
   "source": [
    "arr1-arr2"
   ]
  },
  {
   "cell_type": "code",
   "execution_count": 45,
   "id": "0fce9aed-59e0-412b-a02b-13c494591567",
   "metadata": {},
   "outputs": [
    {
     "data": {
      "text/plain": [
       "array([ 20,  80, 180, 320, 500])"
      ]
     },
     "execution_count": 45,
     "metadata": {},
     "output_type": "execute_result"
    }
   ],
   "source": [
    "arr1*arr2"
   ]
  },
  {
   "cell_type": "code",
   "execution_count": 46,
   "id": "bb53c7a4-b5fd-4e7d-99d1-3188e4ecd797",
   "metadata": {},
   "outputs": [
    {
     "data": {
      "text/plain": [
       "array([5., 5., 5., 5., 5.])"
      ]
     },
     "execution_count": 46,
     "metadata": {},
     "output_type": "execute_result"
    }
   ],
   "source": [
    "arr1/arr2"
   ]
  },
  {
   "cell_type": "code",
   "execution_count": 47,
   "id": "c18916c6-8c26-4b9f-850a-c7867761a219",
   "metadata": {},
   "outputs": [
    {
     "data": {
      "text/plain": [
       "array([15, 25, 35, 45, 55])"
      ]
     },
     "execution_count": 47,
     "metadata": {},
     "output_type": "execute_result"
    }
   ],
   "source": [
    "arr1+5"
   ]
  },
  {
   "cell_type": "code",
   "execution_count": 48,
   "id": "ab8e51c3-91f4-40b0-ae4e-818e9330ba81",
   "metadata": {},
   "outputs": [
    {
     "data": {
      "text/plain": [
       "array([12, 24, 36, 48, 60])"
      ]
     },
     "execution_count": 48,
     "metadata": {},
     "output_type": "execute_result"
    }
   ],
   "source": [
    "arr1+arr2"
   ]
  },
  {
   "cell_type": "code",
   "execution_count": null,
   "id": "6174190e-8acc-4e80-868f-72b317ad0e26",
   "metadata": {},
   "outputs": [],
   "source": []
  }
 ],
 "metadata": {
  "kernelspec": {
   "display_name": "Python 3 (ipykernel)",
   "language": "python",
   "name": "python3"
  },
  "language_info": {
   "codemirror_mode": {
    "name": "ipython",
    "version": 3
   },
   "file_extension": ".py",
   "mimetype": "text/x-python",
   "name": "python",
   "nbconvert_exporter": "python",
   "pygments_lexer": "ipython3",
   "version": "3.12.4"
  }
 },
 "nbformat": 4,
 "nbformat_minor": 5
}
